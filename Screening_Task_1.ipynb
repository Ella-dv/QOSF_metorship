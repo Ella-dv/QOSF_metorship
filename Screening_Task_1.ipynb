{
 "cells": [
  {
   "cell_type": "markdown",
   "metadata": {},
   "source": [
    "# Task 1"
   ]
  },
  {
   "cell_type": "markdown",
   "metadata": {},
   "source": [
    "The task consists on building a 4 qubit quantum circuit formed by $L$ layers of even and odd blocks of parametrized gates. Odd blocks are $R_x$ gates each with a parameter $\\theta_{i,n} \\in (0,2 \\pi)$, where $i \\in 1,2,3,4$ and even blocks are  $R_z$ gates with $\\theta_{i,n}$ parameters followed by $c_z$ gates between each pair of qubits. \n",
    "We are going to try to minimize the distance between the initial state ($|\\phi>$)and the evolved state varying the parameters $\\theta_{i,n}$:\n",
    "$\\epsilon = \\text{min}_{\\theta}|| |\\psi(\\theta)>-|\\phi>||$ \n",
    "\n",
    "We are also going to investigate the behavior of varying L"
   ]
  },
  {
   "cell_type": "code",
   "execution_count": 389,
   "metadata": {},
   "outputs": [],
   "source": [
    "import numpy as np\n",
    "import scipy\n",
    "from qiskit import *\n",
    "import matplotlib.pyplot as plt"
   ]
  },
  {
   "cell_type": "code",
   "execution_count": 232,
   "metadata": {},
   "outputs": [],
   "source": [
    "from qiskit.quantum_info import random_statevector\n",
    "from scipy.optimize import minimize"
   ]
  },
  {
   "cell_type": "code",
   "execution_count": 345,
   "metadata": {},
   "outputs": [],
   "source": [
    "#Creates even block: Rz gates and Cz gates\n",
    "def even_block(tht):\n",
    "    qc=QuantumCircuit(4, name='even_block')\n",
    "    #Rz gates on all qubits\n",
    "    for i in range(0,len(tht)):\n",
    "        qc.rz(tht[i],i)\n",
    "    #Cz gates on all possible combinations of qubits, following specific order\n",
    "    qc.cz(0,1)\n",
    "    qc.cz(0,2)\n",
    "    qc.cz(0,3)\n",
    "    qc.cz(1,2)\n",
    "    qc.cz(1,3)\n",
    "    qc.cz(2,3)\n",
    "    return qc\n",
    "\n",
    "#Creates odd block: Rx gates \n",
    "def odd_block(tht:\n",
    "    qc=QuantumCircuit(4, name='odd_block')\n",
    "    #Rx gates on all qubits\n",
    "    for i in range(0,len(tht)):\n",
    "        qc.rx(tht[i],i)\n",
    "    return qc\n",
    "              \n",
    "#Creates circuit with nn layers\n",
    "def circuit(tht):\n",
    "    nn = len(tht)\n",
    "    #First layer\n",
    "    qc = even_block(tht[0])\n",
    "    qc = qc.combine(odd_block(tht[0]))\n",
    "    for i in range(1,nn):#Adds layers\n",
    "        thti=tht[i]\n",
    "        qc = qc.combine(even_block(thti))\n",
    "        qc = qc.combine(odd_block(thti))\n",
    "    return qc\n",
    "              \n",
    "#Evolves the state vector and calculates the norm of the substraction between the state vector and its evolution        \n",
    "def oper(sv,tht):\n",
    "    tht = tht.tolist()\n",
    "    thtbeta = []\n",
    "    if len(tht)==4: #Quick workaround to use lists after optimize function converts to numpy array\n",
    "        thtbeta.append(tht)\n",
    "    else:\n",
    "        jj = 1\n",
    "        for ii in tht:\n",
    "            if jj == 1:\n",
    "                thtalpha = []\n",
    "                thtalpha.append(ii)\n",
    "                jj+=1\n",
    "            elif jj == 5:\n",
    "                jj=1\n",
    "                thtbeta.append(thtalpha)\n",
    "            else:\n",
    "                thtalpha.append(ii)\n",
    "                jj+=1\n",
    "        \n",
    "    tht = thtbeta\n",
    "    ev = sv.evolve(circuit(tht)) #psi \n",
    "    subs = sv-ev\n",
    "    res = np.linalg.norm(subs.data)#norm of the difference psi -phi\n",
    "    return res\n",
    "              \n",
    "#Initial random parameters theta according to number of layers nn\n",
    "def get_tht(nn):\n",
    "    tht = []\n",
    "    for i in range(0,nn):\n",
    "        tht1 = np.random.rand(4)*2*np.pi\n",
    "        tht1.tolist()\n",
    "        tht.append(tht1)\n",
    "    return tht\n",
    "              \n",
    "#Bounds for the optimization, 0-2pi             \n",
    "def get_bounds(nn):\n",
    "    bnd = np.zeros([nn*4,2])\n",
    "    for ii in range(0,nn*4):\n",
    "        bnd[ii,1] = 2*np.pi\n",
    "    return bnd\n",
    "        \n",
    "def opti_vec(sv,nn): #Optimization routine to minimize the norm of sv-ev\n",
    "    tht0 = get_tht(nn) #Calls get_tht that generates a random set of layers with values 0.0<theta<2pi\n",
    "    fun = lambda thta: oper(sv,thta) #function to be minimzed, calls oper that calculates the norm of sv-ev\n",
    "    res = minimize(fun,np.array(tht0),method='SLSQP',bounds=get_bounds(nn),options = {\"maxiter\":2000}) #Minimizng the oper function with SLSQP method\n",
    "    return res"
   ]
  },
  {
   "cell_type": "code",
   "execution_count": 363,
   "metadata": {},
   "outputs": [],
   "source": [
    "L = 1 #number of layers"
   ]
  },
  {
   "cell_type": "code",
   "execution_count": 350,
   "metadata": {
    "scrolled": true
   },
   "outputs": [],
   "source": [
    "sv = random_statevector(16)#randomly generated vector on 4 qubits, phi"
   ]
  },
  {
   "cell_type": "code",
   "execution_count": 387,
   "metadata": {},
   "outputs": [
    {
     "name": "stdout",
     "output_type": "stream",
     "text": [
      "1\n",
      "[array([3.54400398, 5.4839063 , 3.52471   , 1.8491906 ])]\n",
      "2\n",
      "[array([4.44386016, 5.85708501, 5.44199971, 1.12534941]), array([4.15091784, 4.62406667, 4.63784202, 3.79392573])]\n",
      "3\n",
      "[array([0.45072346, 3.48396429, 3.97165209, 5.8392709 ]), array([4.95729782, 4.71855476, 3.13879553, 3.62960358]), array([3.63469313, 1.98658706, 4.42270903, 1.10555637])]\n",
      "4\n",
      "[array([1.08759838, 2.28086907, 1.88476773, 2.51656301]), array([0.41794944, 1.34302877, 2.73191484, 0.12887565]), array([2.29376781, 1.78474512, 4.60312616, 3.38516572]), array([0.68072499, 4.3108452 , 5.046746  , 3.45261422])]\n",
      "5\n",
      "[array([3.83123899, 3.72070639, 1.53313408, 0.4153362 ]), array([5.1522125 , 4.04548132, 4.30421374, 5.85655562]), array([4.84173995, 4.65183245, 1.32105755, 5.72924336]), array([1.8294072 , 1.63115153, 3.56764072, 5.18382948]), array([1.57692906, 2.5066134 , 0.19103154, 3.22490331])]\n",
      "6\n",
      "[array([0.82968931, 3.58525545, 1.16277433, 5.60851786]), array([5.00280914, 4.52012374, 4.26949674, 2.79367597]), array([1.08779489, 0.91312035, 6.13845382, 1.3797232 ]), array([2.26892543, 2.0612309 , 6.12410266, 5.65888232]), array([0.10467933, 0.12412901, 5.98328363, 2.35440487]), array([2.08060428, 3.09281586, 1.71888754, 3.10676769])]\n",
      "7\n",
      "[array([4.85331065, 4.03684453, 3.97047387, 6.01352676]), array([2.90938414, 3.97526319, 3.81387976, 4.5596916 ]), array([4.27519844, 1.68200416, 1.32521434, 5.94798126]), array([4.14230281, 4.76784512, 5.78226152, 2.53453752]), array([0.45036877, 0.91741476, 5.82722386, 1.57066143]), array([0.28159571, 4.04876407, 4.24273195, 2.22457678]), array([0.49752201, 0.28697951, 0.75469632, 3.31523727])]\n",
      "8\n",
      "[array([2.79699877, 3.39451531, 2.06945975, 2.49478529]), array([3.77609849, 2.02450334, 2.11868009, 2.87789649]), array([0.28853064, 0.60635084, 3.36581638, 4.62450971]), array([2.19511855, 4.70034635, 2.33889858, 4.05604756]), array([1.80897944, 4.65795813, 5.50977882, 4.96843587]), array([1.41310475, 6.27086499, 1.04299042, 5.36712511]), array([1.55446798, 5.98360501, 2.79197251, 2.41140678]), array([0.26944296, 3.5713972 , 0.11849559, 1.36688694])]\n",
      "9\n",
      "[array([5.34164667, 5.54650729, 2.76429606, 2.77275113]), array([0.36530067, 2.09336095, 3.14552748, 3.30909092]), array([1.83363356, 1.17978603, 1.70684662, 2.36161032]), array([5.0481173 , 4.95602449, 2.37442233, 0.33063928]), array([0.69475747, 5.47785809, 1.438537  , 0.88186587]), array([4.4726153 , 1.33681363, 2.93889503, 0.13275622]), array([6.18835802, 3.59202005, 5.79305771, 0.53229504]), array([3.56719221, 2.75190211, 5.5202172 , 1.69185545]), array([2.57480562, 4.99827171, 1.34555923, 1.55697567])]\n"
     ]
    }
   ],
   "source": [
    "epsilon = []\n",
    "for L in range(1,10):\n",
    "    print(L)\n",
    "    res = opti_vec(sv,L)\n",
    "    epsilon.append(res[\"fun\"])\n",
    "    "
   ]
  },
  {
   "cell_type": "code",
   "execution_count": 393,
   "metadata": {},
   "outputs": [
    {
     "data": {
      "image/png": "[encoded data removed]",
      "text/plain": [
       "<Figure size 432x288 with 1 Axes>"
      ]
     },
     "metadata": {
      "needs_background": "light"
     },
     "output_type": "display_data"
    }
   ],
   "source": [
    "plt.plot(np.arange(1,10), epsilon, marker='o')\n",
    "plt.xlabel('L', fontsize=14,fontweight='bold')\n",
    "plt.ylabel('$\\epsilon$',fontsize=16,fontweight='bold')\n",
    "plt.show()"
   ]
  },
  {
   "cell_type": "markdown",
   "metadata": {},
   "source": [
    "We can see clearly that the minimum distance decreases as the number of layers L increases"
   ]
  },
  {
   "cell_type": "code",
   "execution_count": null,
   "metadata": {},
   "outputs": [],
   "source": []
  }
 ],
 "metadata": {
  "kernelspec": {
   "display_name": "Python 3",
   "language": "python",
   "name": "python3"
  },
  "language_info": {
   "codemirror_mode": {
    "name": "ipython",
    "version": 3
   },
   "file_extension": ".py",
   "mimetype": "text/x-python",
   "name": "python",
   "nbconvert_exporter": "python",
   "pygments_lexer": "ipython3",
   "version": "3.8.3"
  }
 },
 "nbformat": 4,
 "nbformat_minor": 4
}
